{
 "cells": [
  {
   "cell_type": "markdown",
   "id": "3c19902455e25588",
   "metadata": {
    "id": "3c19902455e25588"
   },
   "source": [
    "<a href=\"https://colab.research.google.com/github/OliBomby/Mapperatorinator/blob/main/colab/mapperatorinator_inference.ipynb\" target=\"_parent\"><img src=\"https://colab.research.google.com/assets/colab-badge.svg\" alt=\"Open In Colab\"/></a>\n",
    "\n",
    "# Beatmap Generation with Mapperatorinator\n",
    "\n",
    "This notebook is an interactive demo of an osu! beatmap generation model created by OliBomby. This model is capable of generating hit objects, hitsounds, timing, kiai times, and SVs for all 4 gamemodes. You can upload a beatmap to give to the model as additional context or remap parts of the beatmap.\n",
    "\n",
    "### Instructions for running:\n",
    "\n",
    "* Read and accept the rules regarding using this tool\n",
    "* Make sure to use a GPU runtime, click:  __Runtime >> Change Runtime Type >> GPU__\n",
    "* Press ▶️ on the left of each cell to execute the cell\n",
    "* __Upload Audio__, choose a .mp3 or .ogg file from your computer\n",
    "* __Upload Beatmap__, optionally choose a .osu file from your computer\n",
    "* __Configure__, choose your generation parameters to control the style of the generated beatmap\n",
    "* Generate the beatmap using the __Generate Beatmap__ cell (it may take a few minutes depending on the length of the song)\n"
   ]
  },
  {
   "cell_type": "code",
   "execution_count": null,
   "id": "initial_id",
   "metadata": {
    "collapsed": true,
    "id": "initial_id"
   },
   "outputs": [],
   "source": [
    "#@title Setup Environment { display-mode: \"form\" }\n",
    "#@markdown ### Use this tool responsibly. Always disclose the use of AI in your beatmaps.\n",
    "i_accept_the_rules = False # @param {type:\"boolean\"}\n",
    "\n",
    "assert i_accept_the_rules, \"Read and accept the rules first!\"\n",
    "\n",
    "!git clone https://github.com/Tiger14n/Mapperatorinator2\n",
    "%cd Mapperatorinator2\n",
    "\n",
    "!pip install -r requirements.txt\n"
   ]
  },
  {
   "cell_type": "code",
   "execution_count": null,
   "id": "624a60c5777279e7",
   "metadata": {
    "id": "624a60c5777279e7"
   },
   "outputs": [],
   "source": [
    "%cd /content/Mapperatorinator2\n",
    "\n",
    "\n",
    "from google.colab import files\n",
    "\n",
    "import os\n",
    "import glob\n",
    "from hydra import compose, initialize\n",
    "from osuT5.osuT5.event import ContextType\n",
    "from inference import main\n",
    "\n",
    "output_path = \"output\"\n",
    "input_audio = \"\"\n",
    "input_beatmap = \"\"\n",
    "\n",
    "#@title Upload Audio { display-mode: \"form\" }\n",
    "#@markdown This is the song to generate a beatmap for. Please upload a .mp3 or .ogg file.\n",
    "\n",
    "def upload_audio():\n",
    "    data = list(files.upload().keys())\n",
    "    if len(data) > 1:\n",
    "        print('Multiple files uploaded; using only one.')\n",
    "    file = data[0]\n",
    "    if not file.endswith('.mp3') and not file.endswith('.ogg'):\n",
    "        print('Invalid file format. Please upload a .mp3 or .ogg file.')\n",
    "        return \"\"\n",
    "    return data[0]\n",
    "\n",
    "input_audio = upload_audio()"
   ]
  },
  {
   "cell_type": "code",
   "execution_count": null,
   "id": "166eb3e5f9398554",
   "metadata": {
    "id": "166eb3e5f9398554"
   },
   "outputs": [],
   "source": [
    "#@title Configure and Generate Beatmap { display-mode: \"form\" }\n",
    "\n",
    "#@markdown #### You can input -1 to leave the value unknown.\n",
    "#@markdown ---\n",
    "#@markdown This is model only supports std\n",
    "gamemode = \"standard\" # @param [\"standard\"]\n",
    "#@markdown This is the Star Rating you want your beatmap to be. It might deviate from this number depending on the song intensity and other configuration.\n",
    "difficulty = 7 # @param {type:\"number\"}\n",
    "#@markdown This is the user ID of the ranked mapper to imitate for mapping style. You can find this in the URL of the mapper's profile.\n",
    "mapper_id = -1 # @param {type:\"integer\"}\n",
    "#@markdown This is the global slider velocity multiplier for the beatmap.\n",
    "slider_multiplier = 1.4 # @param {type:\"slider\", min:0.4, max:3.6, step:0.1}\n",
    "#@markdown This is the circle size (CS) of the beatmap.\n",
    "circle_size = 3 # @param {type:\"number\"}\n",
    "\n",
    "#@markdown ---\n",
    "#@markdown If true, the generated beatmap will be exported as a .osz file. Otherwise, it will be exported as a .osu file.\n",
    "export_osz = False # @param {type:\"boolean\"}\n",
    "\n",
    "#@markdown This is the temperature of the sampling. A lower temperature will make the model more conservative and map everything like a hard diff. I only recommend lowering this when using `add_to_beatmap` and generating small sections.\n",
    "temperature = 0.9 # @param {type:\"slider\", min:0, max:1, step:0.01}\n",
    "#@markdown This is the random seed. Change this to sample a different beatmap with the same settings.\n",
    "seed = -1 # @param {type:\"integer\"}\n",
    "#@markdown ---\n",
    "\n",
    "\n",
    "# Get actual parameters\n",
    "a_gamemode = [\"standard\", \"taiko\", \"catch the beat\", \"mania\"].index(gamemode)\n",
    "a_difficulty = None if difficulty == -1 else difficulty\n",
    "a_mapper_id = None if mapper_id == -1 else mapper_id\n",
    "a_circle_size = None if circle_size == -1 else circle_size\n",
    "a_seed = None if seed == -1 else seed\n",
    "\n",
    "# Validate stuff\n",
    "\n",
    "assert os.path.exists(input_audio), \"Please upload an audio file.\"\n",
    "\n",
    "# Create config\n",
    "with initialize(version_base=\"1.1\", config_path=\"configs\"):\n",
    "    conf = compose(config_name=\"inference_v30\")\n",
    "\n",
    "# Do inference\n",
    "conf.audio_path = input_audio\n",
    "conf.output_path = output_path\n",
    "conf.beatmap_path = input_beatmap\n",
    "conf.gamemode = a_gamemode\n",
    "conf.difficulty = a_difficulty\n",
    "conf.mapper_id = a_mapper_id\n",
    "conf.slider_multiplier = slider_multiplier\n",
    "conf.circle_size = a_circle_size\n",
    "conf.export_osz = export_osz\n",
    "conf.temperature = temperature\n",
    "conf.seed = a_seed\n",
    "\n",
    "_, result_path, osz_path = main(conf)\n",
    "\n",
    "if osz_path is not None:\n",
    "    result_path = osz_path\n",
    "\n",
    "if conf.add_to_beatmap:\n",
    "    files.download(result_path)\n",
    "else:\n",
    "    files.download(result_path)\n"
   ]
  }
 ],
 "metadata": {
  "accelerator": "GPU",
  "colab": {
   "provenance": []
  },
  "kernelspec": {
   "display_name": "Python 3",
   "language": "python",
   "name": "python3"
  },
  "language_info": {
   "codemirror_mode": {
    "name": "ipython",
    "version": 2
   },
   "file_extension": ".py",
   "mimetype": "text/x-python",
   "name": "python",
   "nbconvert_exporter": "python",
   "pygments_lexer": "ipython2",
   "version": "2.7.6"
  }
 },
 "nbformat": 4,
 "nbformat_minor": 5
}
